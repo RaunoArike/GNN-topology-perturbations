{
 "cells": [
  {
   "cell_type": "code",
   "execution_count": 130,
   "metadata": {},
   "outputs": [],
   "source": [
    "import os.path as osp\n",
    "\n",
    "import torch\n",
    "import torch.nn.functional as F\n",
    "\n",
    "from torch_geometric.datasets import Planetoid\n",
    "from torch_geometric.explain import Explainer, GraphMaskExplainer, CaptumExplainer, PGExplainer\n",
    "from torch_geometric.nn import GATConv, GCNConv, TAGConv\n",
    "from torch_geometric.transforms import NormalizeFeatures\n",
    "\n",
    "device = torch.device('cuda' if torch.cuda.is_available() else 'cpu')\n",
    "\n",
    "dataset = Planetoid(root='../data/Planetoid', name='Cora', transform=NormalizeFeatures())\n",
    "data = dataset[0].to(device)"
   ]
  },
  {
   "cell_type": "code",
   "execution_count": 152,
   "metadata": {},
   "outputs": [
    {
     "name": "stdout",
     "output_type": "stream",
     "text": [
      "Generated explanations in ['node_mask', 'edge_mask']\n"
     ]
    }
   ],
   "source": [
    "class GCN(torch.nn.Module):\n",
    "    def __init__(self):\n",
    "        super().__init__()\n",
    "        self.conv1 = GCNConv(dataset.num_features, 16)\n",
    "        self.conv2 = GCNConv(16, dataset.num_classes)\n",
    "\n",
    "    def forward(self, x, edge_index):\n",
    "        x = F.relu(self.conv1(x, edge_index))\n",
    "        x = F.dropout(x, training=self.training)\n",
    "        x = self.conv2(x, edge_index)\n",
    "        return F.log_softmax(x, dim=1)\n",
    "\n",
    "\n",
    "device = torch.device('cuda' if torch.cuda.is_available() else 'cpu')\n",
    "model = GCN().to(device)\n",
    "data = data.to(device)\n",
    "optimizer = torch.optim.Adam(model.parameters(), lr=0.01, weight_decay=5e-4)\n",
    "\n",
    "for _ in range(1, 201):\n",
    "    model.train()\n",
    "    optimizer.zero_grad()\n",
    "    out = model(data.x, data.edge_index)\n",
    "    loss = F.nll_loss(out[data.train_mask], data.y[data.train_mask])\n",
    "    loss.backward()\n",
    "    optimizer.step()\n",
    "\n",
    "explainer = Explainer(\n",
    "    model=model,\n",
    "    algorithm=CaptumExplainer('IntegratedGradients'),\n",
    "    explanation_type='model',\n",
    "    model_config=dict(\n",
    "        mode='multiclass_classification',\n",
    "        task_level='node',\n",
    "        return_type='log_probs',\n",
    "    ),\n",
    "    node_mask_type='attributes',\n",
    "    edge_mask_type='object',\n",
    "    threshold_config=dict(\n",
    "        threshold_type='topk',\n",
    "        value=200,\n",
    "    ),\n",
    ")\n",
    "\n",
    "node_index = 10\n",
    "explanation = explainer(data.x, data.edge_index, index=node_index)\n",
    "print(f'Generated explanations in {explanation.available_explanations}')"
   ]
  },
  {
   "cell_type": "code",
   "execution_count": 132,
   "metadata": {},
   "outputs": [],
   "source": [
    "explanation.visualize_graph(\"../img/graph_vis.png\")"
   ]
  },
  {
   "cell_type": "code",
   "execution_count": 154,
   "metadata": {},
   "outputs": [
    {
     "name": "stdout",
     "output_type": "stream",
     "text": [
      "tensor([3.5553e-02, 3.5905e-02, 5.5290e-02, 5.5916e-03, 4.8894e-02, 7.9176e-02,\n",
      "        1.0771e-01, 6.3364e-02, 4.6078e-02, 4.0422e-02, 1.3250e-01, 3.2805e-02,\n",
      "        7.8347e-02, 3.2700e-02, 6.4930e-02, 8.3656e-04, 5.9388e-06, 2.2823e-05,\n",
      "        7.0222e-04, 2.8074e-04, 2.5483e-04, 8.2423e-05, 1.4544e-03, 4.1283e-04,\n",
      "        7.3639e-04, 7.7618e-04, 1.1929e-04, 7.0543e-03, 1.0056e-03, 3.4117e-03,\n",
      "        2.8213e-03, 3.5388e-04, 1.7160e-02, 6.1518e-04, 2.3800e-03, 6.2024e-03,\n",
      "        1.3757e-03, 1.3006e-02, 1.4562e-03, 2.9496e-02, 2.0776e-03, 1.8799e-02,\n",
      "        3.4694e-02, 1.4978e-02, 3.1358e-04, 1.2365e-03, 1.0455e-03, 2.5666e-04,\n",
      "        6.2331e-03, 1.2926e-04, 9.2028e-04, 2.3933e-03, 5.6735e-04, 4.6533e-03,\n",
      "        5.0224e-04, 1.0011e-02, 7.6461e-04, 6.7683e-03, 1.2450e-02, 5.3428e-03,\n",
      "        2.6490e-04, 3.8791e-04, 6.1683e-04, 9.3914e-05, 1.2243e-03, 5.0170e-04,\n",
      "        4.9558e-04, 7.9004e-04, 2.9347e-03, 3.6781e-04, 4.1925e-03, 8.7446e-03,\n",
      "        1.5617e-03, 1.6616e-03, 8.5977e-03, 3.3356e-03, 1.9825e-02, 1.4103e-02,\n",
      "        4.2922e-03, 4.3585e-02, 2.1701e-03, 4.6656e-02, 1.2270e-02, 7.9832e-03,\n",
      "        4.7371e-02, 3.4111e-02, 7.4908e-02, 4.6496e-02, 1.5616e-03],\n",
      "       dtype=torch.float64)\n"
     ]
    }
   ],
   "source": [
    "print(explanation.node_mask[torch.where(explanation.node_mask > 0)])"
   ]
  },
  {
   "cell_type": "code",
   "execution_count": 146,
   "metadata": {},
   "outputs": [
    {
     "name": "stdout",
     "output_type": "stream",
     "text": [
      "Generated explanations in ['node_mask', 'edge_mask']\n"
     ]
    }
   ],
   "source": [
    "class GAT(torch.nn.Module):\n",
    "    def __init__(self):\n",
    "        super().__init__()\n",
    "        self.conv1 = GATConv(dataset.num_features, 8, heads=8)\n",
    "        self.conv2 = GATConv(64, dataset.num_classes, heads=1, concat=False)\n",
    "\n",
    "    def forward(self, x, edge_index):\n",
    "        x = self.conv1(x, edge_index).relu()\n",
    "        x = F.dropout(x, training=self.training)\n",
    "        x = self.conv2(x, edge_index)\n",
    "        return F.log_softmax(x, dim=1)\n",
    "\n",
    "\n",
    "model = GAT().to(device)\n",
    "optimizer = torch.optim.Adam(model.parameters(), lr=0.01, weight_decay=5e-4)\n",
    "\n",
    "for epoch in range(1, 201):\n",
    "    model.train()\n",
    "    optimizer.zero_grad()\n",
    "    out = model(data.x, data.edge_index)\n",
    "    loss = F.nll_loss(out[data.train_mask], data.y[data.train_mask])\n",
    "    loss.backward()\n",
    "    optimizer.step()\n",
    "\n",
    "explainer = Explainer(\n",
    "    model=model,\n",
    "    algorithm=CaptumExplainer('IntegratedGradients'),\n",
    "    explanation_type='model',\n",
    "    model_config=dict(\n",
    "        mode='multiclass_classification',\n",
    "        task_level='node',\n",
    "        return_type='log_probs',\n",
    "    ),\n",
    "    node_mask_type='attributes',\n",
    "    edge_mask_type='object',\n",
    "    # threshold_config=dict(\n",
    "    #     threshold_type='topk',\n",
    "    #     value=10,\n",
    "    # ),\n",
    ")\n",
    "\n",
    "node_index = torch.tensor([10])\n",
    "explanation = explainer(data.x, data.edge_index, index=node_index)\n",
    "print(f'Generated explanations in {explanation.available_explanations}')"
   ]
  },
  {
   "cell_type": "code",
   "execution_count": 145,
   "metadata": {},
   "outputs": [],
   "source": [
    "explanation.visualize_graph(\"../img/graph_vis.png\")"
   ]
  },
  {
   "cell_type": "code",
   "execution_count": 163,
   "metadata": {},
   "outputs": [
    {
     "name": "stdout",
     "output_type": "stream",
     "text": [
      "tensor([3.5553e-02, 3.5905e-02, 5.5290e-02, 5.5916e-03, 4.8894e-02, 7.9176e-02,\n",
      "        1.0771e-01, 6.3364e-02, 4.6078e-02, 4.0422e-02, 1.3250e-01, 3.2805e-02,\n",
      "        7.8347e-02, 3.2700e-02, 6.4930e-02, 8.3656e-04, 5.9388e-06, 2.2823e-05,\n",
      "        7.0222e-04, 2.8074e-04, 2.5483e-04, 8.2423e-05, 1.4544e-03, 4.1283e-04,\n",
      "        7.3639e-04, 7.7618e-04, 1.1929e-04, 7.0543e-03, 1.0056e-03, 3.4117e-03,\n",
      "        2.8213e-03, 3.5388e-04, 1.7160e-02, 6.1518e-04, 2.3800e-03, 6.2024e-03,\n",
      "        1.3757e-03, 1.3006e-02, 1.4562e-03, 2.9496e-02, 2.0776e-03, 1.8799e-02,\n",
      "        3.4694e-02, 1.4978e-02, 3.1358e-04, 1.2365e-03, 1.0455e-03, 2.5666e-04,\n",
      "        6.2331e-03, 1.2926e-04, 9.2028e-04, 2.3933e-03, 5.6735e-04, 4.6533e-03,\n",
      "        5.0224e-04, 1.0011e-02, 7.6461e-04, 6.7683e-03, 1.2450e-02, 5.3428e-03,\n",
      "        2.6490e-04, 3.8791e-04, 6.1683e-04, 9.3914e-05, 1.2243e-03, 5.0170e-04,\n",
      "        4.9558e-04, 7.9004e-04, 2.9347e-03, 3.6781e-04, 4.1925e-03, 8.7446e-03,\n",
      "        1.5617e-03, 1.6616e-03, 8.5977e-03, 3.3356e-03, 1.9825e-02, 1.4103e-02,\n",
      "        4.2922e-03, 4.3585e-02, 2.1701e-03, 4.6656e-02, 1.2270e-02, 7.9832e-03,\n",
      "        4.7371e-02, 3.4111e-02, 7.4908e-02, 4.6496e-02, 1.5616e-03],\n",
      "       dtype=torch.float64)\n"
     ]
    }
   ],
   "source": [
    "print(explanation.node_mask[torch.where(explanation.node_mask > 0)])"
   ]
  },
  {
   "cell_type": "code",
   "execution_count": null,
   "metadata": {},
   "outputs": [],
   "source": []
  }
 ],
 "metadata": {
  "kernelspec": {
   "display_name": "gnn-venv",
   "language": "python",
   "name": "python3"
  },
  "language_info": {
   "codemirror_mode": {
    "name": "ipython",
    "version": 3
   },
   "file_extension": ".py",
   "mimetype": "text/x-python",
   "name": "python",
   "nbconvert_exporter": "python",
   "pygments_lexer": "ipython3",
   "version": "3.11.8"
  }
 },
 "nbformat": 4,
 "nbformat_minor": 2
}
